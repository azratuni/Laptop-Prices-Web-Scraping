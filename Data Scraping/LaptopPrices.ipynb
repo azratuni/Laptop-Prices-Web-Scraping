{
 "cells": [
  {
   "cell_type": "code",
   "execution_count": 1,
   "id": "d7c78248",
   "metadata": {},
   "outputs": [],
   "source": [
    "import pandas as pd"
   ]
  },
  {
   "cell_type": "code",
   "execution_count": 2,
   "id": "1716ed28",
   "metadata": {},
   "outputs": [],
   "source": [
    "df1 = pd.read_csv('LaptopPrices_StarTech.csv')\n",
    "df2 = pd.read_csv('LaptopPrices_Ryans.csv')"
   ]
  },
  {
   "cell_type": "code",
   "execution_count": 3,
   "id": "6f9f7231",
   "metadata": {},
   "outputs": [
    {
     "name": "stdout",
     "output_type": "stream",
     "text": [
      "<class 'pandas.core.frame.DataFrame'>\n",
      "RangeIndex: 272 entries, 0 to 271\n",
      "Data columns (total 6 columns):\n",
      " #   Column          Non-Null Count  Dtype \n",
      "---  ------          --------------  ----- \n",
      " 0   Product Name    272 non-null    object\n",
      " 1   Processor Type  272 non-null    object\n",
      " 2   RAM             272 non-null    object\n",
      " 3   Storage         272 non-null    object\n",
      " 4   Display         272 non-null    object\n",
      " 5   Price           272 non-null    object\n",
      "dtypes: object(6)\n",
      "memory usage: 12.9+ KB\n"
     ]
    }
   ],
   "source": [
    "df1.info()"
   ]
  },
  {
   "cell_type": "code",
   "execution_count": 9,
   "id": "a3a4dd0f",
   "metadata": {},
   "outputs": [
    {
     "data": {
      "text/html": [
       "<div>\n",
       "<style scoped>\n",
       "    .dataframe tbody tr th:only-of-type {\n",
       "        vertical-align: middle;\n",
       "    }\n",
       "\n",
       "    .dataframe tbody tr th {\n",
       "        vertical-align: top;\n",
       "    }\n",
       "\n",
       "    .dataframe thead th {\n",
       "        text-align: right;\n",
       "    }\n",
       "</style>\n",
       "<table border=\"1\" class=\"dataframe\">\n",
       "  <thead>\n",
       "    <tr style=\"text-align: right;\">\n",
       "      <th></th>\n",
       "      <th>Product Name</th>\n",
       "      <th>Processor Type</th>\n",
       "      <th>RAM</th>\n",
       "      <th>Storage</th>\n",
       "      <th>Display</th>\n",
       "      <th>Price</th>\n",
       "    </tr>\n",
       "  </thead>\n",
       "  <tbody>\n",
       "    <tr>\n",
       "      <th>0</th>\n",
       "      <td>Lenovo IdeaPad D330 10IGL Celeron N4020 10.1\" ...</td>\n",
       "      <td>Intel Celeron N4020 (4M Cache,1.10 GHz up to 2...</td>\n",
       "      <td>4GB DDR4</td>\n",
       "      <td>128GB eMMC SSD</td>\n",
       "      <td>10.1\" (1280 x 800) HD Touchscreen</td>\n",
       "      <td>34,500</td>\n",
       "    </tr>\n",
       "    <tr>\n",
       "      <th>1</th>\n",
       "      <td>Lenovo IdeaPad 1 14AMN7 AMD Ryzen 5 14\" FHD La...</td>\n",
       "      <td>AMD Ryzen 5 7520U (2.8 GHz up to 4.3 GHz)</td>\n",
       "      <td>8GB DDR5 5500MHz,</td>\n",
       "      <td>256GB  SSD</td>\n",
       "      <td>14\" FHD (1920X1080)</td>\n",
       "      <td>60,500</td>\n",
       "    </tr>\n",
       "    <tr>\n",
       "      <th>2</th>\n",
       "      <td>MSI Modern 14 C12M Core i3 12th Gen 14\" FHD La...</td>\n",
       "      <td>Intel Core i3-1215U (10M Cache, 3.30 GHz, up t...</td>\n",
       "      <td>8GB 3200MHz,</td>\n",
       "      <td>512GB SSD</td>\n",
       "      <td>14\" FHD (1920 x 1080)</td>\n",
       "      <td>59,999</td>\n",
       "    </tr>\n",
       "    <tr>\n",
       "      <th>3</th>\n",
       "      <td>Acer Extensa 14 EX214-53-543W Core i5 12th Gen...</td>\n",
       "      <td>Intel Core i5-1240P Processor (12M Cache, up t...</td>\n",
       "      <td>8GB DDR4,</td>\n",
       "      <td>512GB SSD</td>\n",
       "      <td>14\" FHD (1920 x 1080)</td>\n",
       "      <td>79,999</td>\n",
       "    </tr>\n",
       "    <tr>\n",
       "      <th>4</th>\n",
       "      <td>Apple MacBook Pro 14 inch M3 Chip Liquid Retin...</td>\n",
       "      <td>Apple M3 chip with 8-core CPU, 10-core GPU, 16...</td>\n",
       "      <td>8GB,</td>\n",
       "      <td>512GB SSD</td>\n",
       "      <td>14.2\" Liquid Retina display (3024 x 1664)</td>\n",
       "      <td>228,000</td>\n",
       "    </tr>\n",
       "  </tbody>\n",
       "</table>\n",
       "</div>"
      ],
      "text/plain": [
       "                                        Product Name  \\\n",
       "0  Lenovo IdeaPad D330 10IGL Celeron N4020 10.1\" ...   \n",
       "1  Lenovo IdeaPad 1 14AMN7 AMD Ryzen 5 14\" FHD La...   \n",
       "2  MSI Modern 14 C12M Core i3 12th Gen 14\" FHD La...   \n",
       "3  Acer Extensa 14 EX214-53-543W Core i5 12th Gen...   \n",
       "4  Apple MacBook Pro 14 inch M3 Chip Liquid Retin...   \n",
       "\n",
       "                                      Processor Type                 RAM  \\\n",
       "0  Intel Celeron N4020 (4M Cache,1.10 GHz up to 2...           4GB DDR4    \n",
       "1          AMD Ryzen 5 7520U (2.8 GHz up to 4.3 GHz)  8GB DDR5 5500MHz,    \n",
       "2  Intel Core i3-1215U (10M Cache, 3.30 GHz, up t...       8GB 3200MHz,    \n",
       "3  Intel Core i5-1240P Processor (12M Cache, up t...          8GB DDR4,    \n",
       "4  Apple M3 chip with 8-core CPU, 10-core GPU, 16...               8GB,    \n",
       "\n",
       "           Storage                                    Display    Price  \n",
       "0   128GB eMMC SSD          10.1\" (1280 x 800) HD Touchscreen   34,500  \n",
       "1       256GB  SSD                        14\" FHD (1920X1080)   60,500  \n",
       "2        512GB SSD                      14\" FHD (1920 x 1080)   59,999  \n",
       "3        512GB SSD                      14\" FHD (1920 x 1080)   79,999  \n",
       "4        512GB SSD  14.2\" Liquid Retina display (3024 x 1664)  228,000  "
      ]
     },
     "execution_count": 9,
     "metadata": {},
     "output_type": "execute_result"
    }
   ],
   "source": [
    "df1.head()"
   ]
  },
  {
   "cell_type": "code",
   "execution_count": 4,
   "id": "7b32a5c4",
   "metadata": {},
   "outputs": [
    {
     "name": "stdout",
     "output_type": "stream",
     "text": [
      "<class 'pandas.core.frame.DataFrame'>\n",
      "RangeIndex: 349 entries, 0 to 348\n",
      "Data columns (total 6 columns):\n",
      " #   Column          Non-Null Count  Dtype  \n",
      "---  ------          --------------  -----  \n",
      " 0   Product Name    349 non-null    object \n",
      " 1   Processor Type  349 non-null    object \n",
      " 2   RAM             349 non-null    object \n",
      " 3   Storage         349 non-null    object \n",
      " 4   Display         349 non-null    float64\n",
      " 5   Price           349 non-null    object \n",
      "dtypes: float64(1), object(5)\n",
      "memory usage: 16.5+ KB\n"
     ]
    }
   ],
   "source": [
    "df2.info()"
   ]
  },
  {
   "cell_type": "code",
   "execution_count": 10,
   "id": "8c4d2275",
   "metadata": {},
   "outputs": [
    {
     "data": {
      "text/html": [
       "<div>\n",
       "<style scoped>\n",
       "    .dataframe tbody tr th:only-of-type {\n",
       "        vertical-align: middle;\n",
       "    }\n",
       "\n",
       "    .dataframe tbody tr th {\n",
       "        vertical-align: top;\n",
       "    }\n",
       "\n",
       "    .dataframe thead th {\n",
       "        text-align: right;\n",
       "    }\n",
       "</style>\n",
       "<table border=\"1\" class=\"dataframe\">\n",
       "  <thead>\n",
       "    <tr style=\"text-align: right;\">\n",
       "      <th></th>\n",
       "      <th>Product Name</th>\n",
       "      <th>Processor Type</th>\n",
       "      <th>RAM</th>\n",
       "      <th>Storage</th>\n",
       "      <th>Display</th>\n",
       "      <th>Price</th>\n",
       "    </tr>\n",
       "  </thead>\n",
       "  <tbody>\n",
       "    <tr>\n",
       "      <th>0</th>\n",
       "      <td>Lenovo IdeaPad D330 10IGL Intel CDC N4020 4GB ...</td>\n",
       "      <td>Intel Celeron</td>\n",
       "      <td>4GB</td>\n",
       "      <td>128GB eMMC</td>\n",
       "      <td>10.1</td>\n",
       "      <td>34,500</td>\n",
       "    </tr>\n",
       "    <tr>\n",
       "      <th>1</th>\n",
       "      <td>HP 15s-eq1578AU AMD Athlon Silver 3050U 8GB  2...</td>\n",
       "      <td>AMD Athlon</td>\n",
       "      <td>8GB</td>\n",
       "      <td>256GB SSD</td>\n",
       "      <td>15.6</td>\n",
       "      <td>46,500 48,900</td>\n",
       "    </tr>\n",
       "    <tr>\n",
       "      <th>2</th>\n",
       "      <td>Acer Aspire 3 A315-510P-38RH (13th Gen Standar...</td>\n",
       "      <td>Core i3</td>\n",
       "      <td>8GB</td>\n",
       "      <td>512GB SSD</td>\n",
       "      <td>15.6</td>\n",
       "      <td>49,800 53,000</td>\n",
       "    </tr>\n",
       "    <tr>\n",
       "      <th>3</th>\n",
       "      <td>Lenovo IdeaPad 1 15ADA7 AMD Ryzen 3 3250U 8GB ...</td>\n",
       "      <td>Ryzen 3</td>\n",
       "      <td>8GB</td>\n",
       "      <td>512GB SSD</td>\n",
       "      <td>15.6</td>\n",
       "      <td>49,900</td>\n",
       "    </tr>\n",
       "    <tr>\n",
       "      <th>4</th>\n",
       "      <td>Lenovo IdeaPad Slim 3i 15ITL 11th Gen Intel Co...</td>\n",
       "      <td>Core i3</td>\n",
       "      <td>4GB</td>\n",
       "      <td>256GB SSD</td>\n",
       "      <td>15.6</td>\n",
       "      <td>51,400</td>\n",
       "    </tr>\n",
       "  </tbody>\n",
       "</table>\n",
       "</div>"
      ],
      "text/plain": [
       "                                        Product Name Processor Type  RAM  \\\n",
       "0  Lenovo IdeaPad D330 10IGL Intel CDC N4020 4GB ...  Intel Celeron  4GB   \n",
       "1  HP 15s-eq1578AU AMD Athlon Silver 3050U 8GB  2...     AMD Athlon  8GB   \n",
       "2  Acer Aspire 3 A315-510P-38RH (13th Gen Standar...        Core i3  8GB   \n",
       "3  Lenovo IdeaPad 1 15ADA7 AMD Ryzen 3 3250U 8GB ...        Ryzen 3  8GB   \n",
       "4  Lenovo IdeaPad Slim 3i 15ITL 11th Gen Intel Co...        Core i3  4GB   \n",
       "\n",
       "      Storage  Display           Price  \n",
       "0  128GB eMMC     10.1         34,500   \n",
       "1   256GB SSD     15.6  46,500 48,900   \n",
       "2   512GB SSD     15.6  49,800 53,000   \n",
       "3   512GB SSD     15.6         49,900   \n",
       "4   256GB SSD     15.6         51,400   "
      ]
     },
     "execution_count": 10,
     "metadata": {},
     "output_type": "execute_result"
    }
   ],
   "source": [
    "df2.head()"
   ]
  },
  {
   "cell_type": "code",
   "execution_count": 5,
   "id": "ba4b772b",
   "metadata": {},
   "outputs": [
    {
     "data": {
      "text/plain": [
       "(272, 6)"
      ]
     },
     "execution_count": 5,
     "metadata": {},
     "output_type": "execute_result"
    }
   ],
   "source": [
    "df1.shape"
   ]
  },
  {
   "cell_type": "code",
   "execution_count": 6,
   "id": "bf9f01f0",
   "metadata": {},
   "outputs": [
    {
     "data": {
      "text/plain": [
       "(349, 6)"
      ]
     },
     "execution_count": 6,
     "metadata": {},
     "output_type": "execute_result"
    }
   ],
   "source": [
    "df2.shape"
   ]
  },
  {
   "cell_type": "code",
   "execution_count": 7,
   "id": "1f699a81",
   "metadata": {},
   "outputs": [
    {
     "name": "stdout",
     "output_type": "stream",
     "text": [
      "Number of duplicate products: 0\n"
     ]
    }
   ],
   "source": [
    "duplicates = df1[df1['Product Name'].duplicated(keep=False)]\n",
    "num_duplicates = len(duplicates)\n",
    "print(f'Number of duplicate products: {num_duplicates}')"
   ]
  },
  {
   "cell_type": "code",
   "execution_count": 8,
   "id": "d49e1c12",
   "metadata": {},
   "outputs": [
    {
     "name": "stdout",
     "output_type": "stream",
     "text": [
      "Number of duplicate products: 0\n"
     ]
    }
   ],
   "source": [
    "duplicates_df2 = df2[df2['Product Name'].duplicated(keep=False)]\n",
    "num_duplicates_df2 = len(duplicates_df2)\n",
    "print(f'Number of duplicate products: {num_duplicates_df2}')"
   ]
  },
  {
   "cell_type": "code",
   "execution_count": 14,
   "id": "c00cf81c",
   "metadata": {},
   "outputs": [
    {
     "name": "stdout",
     "output_type": "stream",
     "text": [
      "Number of unique products: 621\n"
     ]
    }
   ],
   "source": [
    "LaptopPrices = pd.concat([df1, df2], ignore_index=True)\n",
    "unique_products = LaptopPrices['Product Name'].unique()\n",
    "num_unique_products = len(unique_products)\n",
    "print(f'Number of unique products: {num_unique_products}')"
   ]
  },
  {
   "cell_type": "code",
   "execution_count": 15,
   "id": "eda74cff",
   "metadata": {},
   "outputs": [
    {
     "data": {
      "text/html": [
       "<div>\n",
       "<style scoped>\n",
       "    .dataframe tbody tr th:only-of-type {\n",
       "        vertical-align: middle;\n",
       "    }\n",
       "\n",
       "    .dataframe tbody tr th {\n",
       "        vertical-align: top;\n",
       "    }\n",
       "\n",
       "    .dataframe thead th {\n",
       "        text-align: right;\n",
       "    }\n",
       "</style>\n",
       "<table border=\"1\" class=\"dataframe\">\n",
       "  <thead>\n",
       "    <tr style=\"text-align: right;\">\n",
       "      <th></th>\n",
       "      <th>Product Name</th>\n",
       "      <th>Processor Type</th>\n",
       "      <th>RAM</th>\n",
       "      <th>Storage</th>\n",
       "      <th>Display</th>\n",
       "      <th>Price</th>\n",
       "    </tr>\n",
       "  </thead>\n",
       "  <tbody>\n",
       "    <tr>\n",
       "      <th>0</th>\n",
       "      <td>Lenovo IdeaPad D330 10IGL Celeron N4020 10.1\" ...</td>\n",
       "      <td>Intel Celeron N4020 (4M Cache,1.10 GHz up to 2...</td>\n",
       "      <td>4GB DDR4</td>\n",
       "      <td>128GB eMMC SSD</td>\n",
       "      <td>10.1\" (1280 x 800) HD Touchscreen</td>\n",
       "      <td>34,500</td>\n",
       "    </tr>\n",
       "    <tr>\n",
       "      <th>1</th>\n",
       "      <td>Lenovo IdeaPad 1 14AMN7 AMD Ryzen 5 14\" FHD La...</td>\n",
       "      <td>AMD Ryzen 5 7520U (2.8 GHz up to 4.3 GHz)</td>\n",
       "      <td>8GB DDR5 5500MHz,</td>\n",
       "      <td>256GB  SSD</td>\n",
       "      <td>14\" FHD (1920X1080)</td>\n",
       "      <td>60,500</td>\n",
       "    </tr>\n",
       "    <tr>\n",
       "      <th>2</th>\n",
       "      <td>MSI Modern 14 C12M Core i3 12th Gen 14\" FHD La...</td>\n",
       "      <td>Intel Core i3-1215U (10M Cache, 3.30 GHz, up t...</td>\n",
       "      <td>8GB 3200MHz,</td>\n",
       "      <td>512GB SSD</td>\n",
       "      <td>14\" FHD (1920 x 1080)</td>\n",
       "      <td>59,999</td>\n",
       "    </tr>\n",
       "    <tr>\n",
       "      <th>3</th>\n",
       "      <td>Acer Extensa 14 EX214-53-543W Core i5 12th Gen...</td>\n",
       "      <td>Intel Core i5-1240P Processor (12M Cache, up t...</td>\n",
       "      <td>8GB DDR4,</td>\n",
       "      <td>512GB SSD</td>\n",
       "      <td>14\" FHD (1920 x 1080)</td>\n",
       "      <td>79,999</td>\n",
       "    </tr>\n",
       "    <tr>\n",
       "      <th>4</th>\n",
       "      <td>Apple MacBook Pro 14 inch M3 Chip Liquid Retin...</td>\n",
       "      <td>Apple M3 chip with 8-core CPU, 10-core GPU, 16...</td>\n",
       "      <td>8GB,</td>\n",
       "      <td>512GB SSD</td>\n",
       "      <td>14.2\" Liquid Retina display (3024 x 1664)</td>\n",
       "      <td>228,000</td>\n",
       "    </tr>\n",
       "  </tbody>\n",
       "</table>\n",
       "</div>"
      ],
      "text/plain": [
       "                                        Product Name  \\\n",
       "0  Lenovo IdeaPad D330 10IGL Celeron N4020 10.1\" ...   \n",
       "1  Lenovo IdeaPad 1 14AMN7 AMD Ryzen 5 14\" FHD La...   \n",
       "2  MSI Modern 14 C12M Core i3 12th Gen 14\" FHD La...   \n",
       "3  Acer Extensa 14 EX214-53-543W Core i5 12th Gen...   \n",
       "4  Apple MacBook Pro 14 inch M3 Chip Liquid Retin...   \n",
       "\n",
       "                                      Processor Type                 RAM  \\\n",
       "0  Intel Celeron N4020 (4M Cache,1.10 GHz up to 2...           4GB DDR4    \n",
       "1          AMD Ryzen 5 7520U (2.8 GHz up to 4.3 GHz)  8GB DDR5 5500MHz,    \n",
       "2  Intel Core i3-1215U (10M Cache, 3.30 GHz, up t...       8GB 3200MHz,    \n",
       "3  Intel Core i5-1240P Processor (12M Cache, up t...          8GB DDR4,    \n",
       "4  Apple M3 chip with 8-core CPU, 10-core GPU, 16...               8GB,    \n",
       "\n",
       "           Storage                                    Display    Price  \n",
       "0   128GB eMMC SSD          10.1\" (1280 x 800) HD Touchscreen   34,500  \n",
       "1       256GB  SSD                        14\" FHD (1920X1080)   60,500  \n",
       "2        512GB SSD                      14\" FHD (1920 x 1080)   59,999  \n",
       "3        512GB SSD                      14\" FHD (1920 x 1080)   79,999  \n",
       "4        512GB SSD  14.2\" Liquid Retina display (3024 x 1664)  228,000  "
      ]
     },
     "execution_count": 15,
     "metadata": {},
     "output_type": "execute_result"
    }
   ],
   "source": [
    "LaptopPrices.head()"
   ]
  },
  {
   "cell_type": "code",
   "execution_count": 16,
   "id": "3fc3962a",
   "metadata": {},
   "outputs": [
    {
     "data": {
      "text/html": [
       "<div>\n",
       "<style scoped>\n",
       "    .dataframe tbody tr th:only-of-type {\n",
       "        vertical-align: middle;\n",
       "    }\n",
       "\n",
       "    .dataframe tbody tr th {\n",
       "        vertical-align: top;\n",
       "    }\n",
       "\n",
       "    .dataframe thead th {\n",
       "        text-align: right;\n",
       "    }\n",
       "</style>\n",
       "<table border=\"1\" class=\"dataframe\">\n",
       "  <thead>\n",
       "    <tr style=\"text-align: right;\">\n",
       "      <th></th>\n",
       "      <th>Product Name</th>\n",
       "      <th>Processor Type</th>\n",
       "      <th>RAM</th>\n",
       "      <th>Storage</th>\n",
       "      <th>Display</th>\n",
       "      <th>Price</th>\n",
       "    </tr>\n",
       "  </thead>\n",
       "  <tbody>\n",
       "    <tr>\n",
       "      <th>0</th>\n",
       "      <td>Lenovo IdeaPad D330 10IGL Celeron N4020 10.1\" ...</td>\n",
       "      <td>Intel Celeron N4020 (4M Cache,1.10 GHz up to 2...</td>\n",
       "      <td>4GB DDR4</td>\n",
       "      <td>128GB eMMC SSD</td>\n",
       "      <td>10.1\" (1280 x 800) HD Touchscreen</td>\n",
       "      <td>34,500</td>\n",
       "    </tr>\n",
       "    <tr>\n",
       "      <th>1</th>\n",
       "      <td>Lenovo IdeaPad 1 14AMN7 AMD Ryzen 5 14\" FHD La...</td>\n",
       "      <td>AMD Ryzen 5 7520U (2.8 GHz up to 4.3 GHz)</td>\n",
       "      <td>8GB DDR5 5500MHz,</td>\n",
       "      <td>256GB  SSD</td>\n",
       "      <td>14\" FHD (1920X1080)</td>\n",
       "      <td>60,500</td>\n",
       "    </tr>\n",
       "    <tr>\n",
       "      <th>2</th>\n",
       "      <td>MSI Modern 14 C12M Core i3 12th Gen 14\" FHD La...</td>\n",
       "      <td>Intel Core i3-1215U (10M Cache, 3.30 GHz, up t...</td>\n",
       "      <td>8GB 3200MHz,</td>\n",
       "      <td>512GB SSD</td>\n",
       "      <td>14\" FHD (1920 x 1080)</td>\n",
       "      <td>59,999</td>\n",
       "    </tr>\n",
       "    <tr>\n",
       "      <th>3</th>\n",
       "      <td>Acer Extensa 14 EX214-53-543W Core i5 12th Gen...</td>\n",
       "      <td>Intel Core i5-1240P Processor (12M Cache, up t...</td>\n",
       "      <td>8GB DDR4,</td>\n",
       "      <td>512GB SSD</td>\n",
       "      <td>14\" FHD (1920 x 1080)</td>\n",
       "      <td>79,999</td>\n",
       "    </tr>\n",
       "    <tr>\n",
       "      <th>4</th>\n",
       "      <td>Apple MacBook Pro 14 inch M3 Chip Liquid Retin...</td>\n",
       "      <td>Apple M3 chip with 8-core CPU, 10-core GPU, 16...</td>\n",
       "      <td>8GB,</td>\n",
       "      <td>512GB SSD</td>\n",
       "      <td>14.2\" Liquid Retina display (3024 x 1664)</td>\n",
       "      <td>228,000</td>\n",
       "    </tr>\n",
       "    <tr>\n",
       "      <th>...</th>\n",
       "      <td>...</td>\n",
       "      <td>...</td>\n",
       "      <td>...</td>\n",
       "      <td>...</td>\n",
       "      <td>...</td>\n",
       "      <td>...</td>\n",
       "    </tr>\n",
       "    <tr>\n",
       "      <th>616</th>\n",
       "      <td>Apple MacBook Pro (2023) Apple M2 Max Chip 32G...</td>\n",
       "      <td>Apple M2</td>\n",
       "      <td>32GB</td>\n",
       "      <td>1TB SSD</td>\n",
       "      <td>16.2</td>\n",
       "      <td>465,000</td>\n",
       "    </tr>\n",
       "    <tr>\n",
       "      <th>617</th>\n",
       "      <td>Apple MacBook Pro (Late 2021) Apple M1 Max Chi...</td>\n",
       "      <td>Apple M3</td>\n",
       "      <td>64GB</td>\n",
       "      <td>4TB SSD</td>\n",
       "      <td>16.2</td>\n",
       "      <td>479,000</td>\n",
       "    </tr>\n",
       "    <tr>\n",
       "      <th>618</th>\n",
       "      <td>Apple Macbook Pro (Early 2023) Apple M2 Max Ch...</td>\n",
       "      <td>Apple M3</td>\n",
       "      <td>32GB</td>\n",
       "      <td>2TB SSD</td>\n",
       "      <td>16.2</td>\n",
       "      <td>495,000 (Estimated)</td>\n",
       "    </tr>\n",
       "    <tr>\n",
       "      <th>619</th>\n",
       "      <td>Apple Macbook Pro (Late 2023) Apple M3 Max 48G...</td>\n",
       "      <td>Apple M3</td>\n",
       "      <td>48GB</td>\n",
       "      <td>1TB SSD</td>\n",
       "      <td>16.2</td>\n",
       "      <td>538,000 (Estimated)</td>\n",
       "    </tr>\n",
       "    <tr>\n",
       "      <th>620</th>\n",
       "      <td>Apple Macbook Pro (Late 2023) Apple M3 Max 48G...</td>\n",
       "      <td>Apple M3</td>\n",
       "      <td>48GB</td>\n",
       "      <td>1TB SSD</td>\n",
       "      <td>16.2</td>\n",
       "      <td>540,000 (Estimated)</td>\n",
       "    </tr>\n",
       "  </tbody>\n",
       "</table>\n",
       "<p>621 rows × 6 columns</p>\n",
       "</div>"
      ],
      "text/plain": [
       "                                          Product Name  \\\n",
       "0    Lenovo IdeaPad D330 10IGL Celeron N4020 10.1\" ...   \n",
       "1    Lenovo IdeaPad 1 14AMN7 AMD Ryzen 5 14\" FHD La...   \n",
       "2    MSI Modern 14 C12M Core i3 12th Gen 14\" FHD La...   \n",
       "3    Acer Extensa 14 EX214-53-543W Core i5 12th Gen...   \n",
       "4    Apple MacBook Pro 14 inch M3 Chip Liquid Retin...   \n",
       "..                                                 ...   \n",
       "616  Apple MacBook Pro (2023) Apple M2 Max Chip 32G...   \n",
       "617  Apple MacBook Pro (Late 2021) Apple M1 Max Chi...   \n",
       "618  Apple Macbook Pro (Early 2023) Apple M2 Max Ch...   \n",
       "619  Apple Macbook Pro (Late 2023) Apple M3 Max 48G...   \n",
       "620  Apple Macbook Pro (Late 2023) Apple M3 Max 48G...   \n",
       "\n",
       "                                        Processor Type                 RAM  \\\n",
       "0    Intel Celeron N4020 (4M Cache,1.10 GHz up to 2...           4GB DDR4    \n",
       "1            AMD Ryzen 5 7520U (2.8 GHz up to 4.3 GHz)  8GB DDR5 5500MHz,    \n",
       "2    Intel Core i3-1215U (10M Cache, 3.30 GHz, up t...       8GB 3200MHz,    \n",
       "3    Intel Core i5-1240P Processor (12M Cache, up t...          8GB DDR4,    \n",
       "4    Apple M3 chip with 8-core CPU, 10-core GPU, 16...               8GB,    \n",
       "..                                                 ...                 ...   \n",
       "616                                           Apple M2                32GB   \n",
       "617                                           Apple M3                64GB   \n",
       "618                                           Apple M3                32GB   \n",
       "619                                           Apple M3                48GB   \n",
       "620                                           Apple M3                48GB   \n",
       "\n",
       "             Storage                                    Display  \\\n",
       "0     128GB eMMC SSD          10.1\" (1280 x 800) HD Touchscreen   \n",
       "1         256GB  SSD                        14\" FHD (1920X1080)   \n",
       "2          512GB SSD                      14\" FHD (1920 x 1080)   \n",
       "3          512GB SSD                      14\" FHD (1920 x 1080)   \n",
       "4          512GB SSD  14.2\" Liquid Retina display (3024 x 1664)   \n",
       "..               ...                                        ...   \n",
       "616          1TB SSD                                       16.2   \n",
       "617          4TB SSD                                       16.2   \n",
       "618          2TB SSD                                       16.2   \n",
       "619          1TB SSD                                       16.2   \n",
       "620          1TB SSD                                       16.2   \n",
       "\n",
       "                   Price  \n",
       "0                 34,500  \n",
       "1                 60,500  \n",
       "2                 59,999  \n",
       "3                 79,999  \n",
       "4                228,000  \n",
       "..                   ...  \n",
       "616             465,000   \n",
       "617             479,000   \n",
       "618  495,000 (Estimated)  \n",
       "619  538,000 (Estimated)  \n",
       "620  540,000 (Estimated)  \n",
       "\n",
       "[621 rows x 6 columns]"
      ]
     },
     "execution_count": 16,
     "metadata": {},
     "output_type": "execute_result"
    }
   ],
   "source": [
    "LaptopPrices"
   ]
  },
  {
   "cell_type": "code",
   "execution_count": null,
   "id": "d5a0585b",
   "metadata": {},
   "outputs": [],
   "source": [
    "LaptopPrices.to_csv('D:\\GitHub Repos\\Laptop-Prices-Web-Scraping/LaptopPrices.csv')"
   ]
  },
  {
   "cell_type": "markdown",
   "id": "6c8061f3",
   "metadata": {},
   "source": [
    "**A combined dataset namely \"LaptopPrices\" has been created with the data scraped off two websites (Ryans Computers and Star Tech).** \n",
    "The dataset has has 621 observations/ rows and 6 columns [\"Product Name\", \"Processor Type\", \"RAM\", \"Storage\", \"Display\", \"Price\"]"
   ]
  }
 ],
 "metadata": {
  "kernelspec": {
   "display_name": "Python 3 (ipykernel)",
   "language": "python",
   "name": "python3"
  },
  "language_info": {
   "codemirror_mode": {
    "name": "ipython",
    "version": 3
   },
   "file_extension": ".py",
   "mimetype": "text/x-python",
   "name": "python",
   "nbconvert_exporter": "python",
   "pygments_lexer": "ipython3",
   "version": "3.9.13"
  }
 },
 "nbformat": 4,
 "nbformat_minor": 5
}
